{
  "nbformat": 4,
  "nbformat_minor": 0,
  "metadata": {
    "colab": {
      "name": "Transfer Learning_VGG16.ipynb",
      "provenance": [],
      "collapsed_sections": []
    },
    "kernelspec": {
      "name": "python3",
      "display_name": "Python 3"
    },
    "language_info": {
      "name": "python"
    }
  },
  "cells": [
    {
      "cell_type": "code",
      "metadata": {
        "id": "ubQeN7dRnzSc"
      },
      "source": [
        "import tensorflow as tf\n",
        "import numpy as np"
      ],
      "execution_count": 1,
      "outputs": []
    },
    {
      "cell_type": "code",
      "metadata": {
        "id": "mhoxgpvZoHZh"
      },
      "source": [
        "from keras_preprocessing.image import load_img, img_to_array\n",
        "\n",
        "image = load_img('image.PNG', target_size=(224,224))\n",
        "image = img_to_array(image)\n",
        "\n",
        "image = image.reshape(1, image.shape[0], image.shape[1], image.shape[2])"
      ],
      "execution_count": 2,
      "outputs": []
    },
    {
      "cell_type": "code",
      "metadata": {
        "id": "QBSf__ZNogws"
      },
      "source": [
        "from keras.applications import VGG16\n",
        "\n",
        "model = VGG16()\n",
        "model.summary()"
      ],
      "execution_count": null,
      "outputs": []
    },
    {
      "cell_type": "code",
      "metadata": {
        "id": "pvG7x9dDqVmv"
      },
      "source": [
        "from keras.applications.vgg16 import preprocess_input\n",
        "from keras.applications.vgg16 import decode_predictions\n",
        "\n",
        "image = preprocess_input(image)\n",
        "predicted_labels = model.predict(image)\n",
        "labels = decode_predictions(predicted_labels, top=5)[0]\n",
        "names = [y for (x,y,z) in labels]"
      ],
      "execution_count": 4,
      "outputs": []
    },
    {
      "cell_type": "code",
      "metadata": {
        "colab": {
          "base_uri": "https://localhost:8080/"
        },
        "id": "gdS_7Ep6rhgs",
        "outputId": "c9d20dfa-6159-4511-947e-00a2525843be"
      },
      "source": [
        "names"
      ],
      "execution_count": 5,
      "outputs": [
        {
          "output_type": "execute_result",
          "data": {
            "text/plain": [
              "['washbasin', 'medicine_chest', 'soap_dispenser', 'bathtub', 'switch']"
            ]
          },
          "metadata": {
            "tags": []
          },
          "execution_count": 5
        }
      ]
    },
    {
      "cell_type": "code",
      "metadata": {
        "id": "vDuEMRJYsTyy"
      },
      "source": [
        ""
      ],
      "execution_count": 5,
      "outputs": []
    }
  ]
}