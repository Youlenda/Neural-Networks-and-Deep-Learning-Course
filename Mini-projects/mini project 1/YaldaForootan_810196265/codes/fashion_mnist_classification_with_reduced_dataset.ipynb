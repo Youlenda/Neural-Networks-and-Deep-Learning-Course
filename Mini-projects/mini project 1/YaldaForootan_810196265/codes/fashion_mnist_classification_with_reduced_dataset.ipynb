{
  "nbformat": 4,
  "nbformat_minor": 0,
  "metadata": {
    "colab": {
      "name": "fashion_mnist_classification_with_reduced_dataset.ipynb",
      "provenance": [],
      "collapsed_sections": []
    },
    "kernelspec": {
      "name": "python3",
      "display_name": "Python 3"
    },
    "accelerator": "GPU"
  },
  "cells": [
    {
      "cell_type": "code",
      "metadata": {
        "id": "-Y2pTkqxZiiY"
      },
      "source": [
        "import tensorflow as tf\n",
        "from keras.datasets import fashion_mnist"
      ],
      "execution_count": 1,
      "outputs": []
    },
    {
      "cell_type": "code",
      "metadata": {
        "colab": {
          "base_uri": "https://localhost:8080/"
        },
        "id": "lpqnRvNSZip3",
        "outputId": "dece6b71-bafa-4e0f-84e4-3d799b6f652a"
      },
      "source": [
        "f_mnist = tf.keras.datasets.fashion_mnist\n",
        "\n",
        "(train_img,train_lbl),(test_img,test_lbl) = f_mnist.load_data()"
      ],
      "execution_count": 2,
      "outputs": [
        {
          "output_type": "stream",
          "text": [
            "Downloading data from https://storage.googleapis.com/tensorflow/tf-keras-datasets/train-labels-idx1-ubyte.gz\n",
            "32768/29515 [=================================] - 0s 0us/step\n",
            "Downloading data from https://storage.googleapis.com/tensorflow/tf-keras-datasets/train-images-idx3-ubyte.gz\n",
            "26427392/26421880 [==============================] - 0s 0us/step\n",
            "Downloading data from https://storage.googleapis.com/tensorflow/tf-keras-datasets/t10k-labels-idx1-ubyte.gz\n",
            "8192/5148 [===============================================] - 0s 0us/step\n",
            "Downloading data from https://storage.googleapis.com/tensorflow/tf-keras-datasets/t10k-images-idx3-ubyte.gz\n",
            "4423680/4422102 [==============================] - 0s 0us/step\n"
          ],
          "name": "stdout"
        }
      ]
    },
    {
      "cell_type": "code",
      "metadata": {
        "id": "kqQVJh-pZiv3"
      },
      "source": [
        "train_img = train_img.reshape(train_img.shape[0], train_img.shape[1], train_img.shape[2], 1)\n",
        "test_img = test_img.reshape(test_img.shape[0], test_img.shape[1], test_img.shape[2], 1)\n",
        "\n",
        "train_img = train_img/255\n",
        "test_img = test_img/255"
      ],
      "execution_count": 3,
      "outputs": []
    },
    {
      "cell_type": "code",
      "metadata": {
        "id": "om8sVqnqarRI"
      },
      "source": [
        "# providing a reduced dataset, having 800 samples for each class so the dataset would has 8000 samples.\n",
        "\n",
        "import numpy as np\n",
        "\n",
        "p0=p1=p2=p3=p4=p5=p6=p7=p8=p9=i=j=0\n",
        "red_train_img = np.zeros((8000, train_img.shape[1], train_img.shape[2], train_img.shape[3]))\n",
        "red_train_lbl = np.zeros((8000, 1))"
      ],
      "execution_count": 4,
      "outputs": []
    },
    {
      "cell_type": "code",
      "metadata": {
        "id": "YrmVn3RBauWq"
      },
      "source": [
        "for i in range(len(train_lbl)):\n",
        "  if j<8000:\n",
        "    if train_lbl [i] == 0:\n",
        "      if p0<800:\n",
        "        red_train_img [j,:] = train_img [i,:]\n",
        "        red_train_lbl [j] = train_lbl [i]\n",
        "        j=j+1\n",
        "        p0=p0+1\n",
        "\n",
        "    if train_lbl [i] == 1:\n",
        "      if p1<800:\n",
        "        red_train_img [j,:] = train_img [i,:]\n",
        "        red_train_lbl [j] = train_lbl [i]\n",
        "        j=j+1\n",
        "        p1=p1+1\n",
        "\n",
        "    if train_lbl [i] == 2:\n",
        "      if p2<800:\n",
        "        red_train_img [j,:] = train_img [i,:]\n",
        "        red_train_lbl [j] = train_lbl [i]\n",
        "        j=j+1\n",
        "        p2=p2+1\n",
        "\n",
        "    if train_lbl [i] == 3:\n",
        "      if p3<800:\n",
        "        red_train_img [j,:] = train_img [i,:]\n",
        "        red_train_lbl [j] = train_lbl [i]\n",
        "        j=j+1\n",
        "        p3=p3+1\n",
        "\n",
        "    if train_lbl [i] == 4:\n",
        "      if p4<800:\n",
        "        red_train_img [j,:] = train_img [i,:]\n",
        "        red_train_lbl [j] = train_lbl [i]\n",
        "        j=j+1\n",
        "        p4=p4+1\n",
        "\n",
        "    if train_lbl [i] == 5:\n",
        "      if p5<800:\n",
        "        red_train_img [j,:] = train_img [i,:]\n",
        "        red_train_lbl [j] = train_lbl [i]\n",
        "        j=j+1\n",
        "        p5=p5+1\n",
        "\n",
        "    if train_lbl [i] == 6:\n",
        "      if p6<800:\n",
        "        red_train_img [j,:] = train_img [i,:]\n",
        "        red_train_lbl [j] = train_lbl [i]\n",
        "        j=j+1\n",
        "        p6=p6+1\n",
        "\n",
        "    if train_lbl [i] == 7:\n",
        "      if p7<800:\n",
        "        red_train_img [j,:] = train_img [i,:]\n",
        "        red_train_lbl [j] = train_lbl [i]\n",
        "        j=j+1\n",
        "        p7=p7+1\n",
        "\n",
        "    if train_lbl [i] == 8:\n",
        "      if p8<800:\n",
        "        red_train_img [j,:] = train_img [i,:]\n",
        "        red_train_lbl [j] = train_lbl [i]\n",
        "        j=j+1\n",
        "        p8=p8+1\n",
        "\n",
        "    if train_lbl [i] == 7:\n",
        "      if p9<800:\n",
        "        red_train_img [j,:] = train_img [i,:]\n",
        "        red_train_lbl [j] = train_lbl [i]\n",
        "        j=j+1\n",
        "        p9=p9+1"
      ],
      "execution_count": 5,
      "outputs": []
    },
    {
      "cell_type": "code",
      "metadata": {
        "id": "GYezGutxelsU"
      },
      "source": [
        "from keras import Sequential\n",
        "from keras.layers import Dense, Conv2D, MaxPooling2D, Flatten\n",
        "\n",
        "model = Sequential([Conv2D(64, (3,3), activation='relu', input_shape=(red_train_img.shape[1], red_train_img.shape[2], 1)),\n",
        "                    MaxPooling2D(2,2),\n",
        "                    Conv2D(64, (3,3), activation='relu'),\n",
        "                    MaxPooling2D(2,2),\n",
        "                    Flatten(),\n",
        "                    Dense(128, activation='relu'),\n",
        "                    Dense(10, activation='softmax')])"
      ],
      "execution_count": 6,
      "outputs": []
    },
    {
      "cell_type": "code",
      "metadata": {
        "colab": {
          "base_uri": "https://localhost:8080/"
        },
        "id": "v8wnLk46fDcK",
        "outputId": "921de940-3ad3-4d30-a97f-bbb70d8eff3f"
      },
      "source": [
        "from keras import optimizers\n",
        "\n",
        "model.compile(optimizer='adam', loss='sparse_categorical_crossentropy', metrics='accuracy')\n",
        "model.summary()"
      ],
      "execution_count": 7,
      "outputs": [
        {
          "output_type": "stream",
          "text": [
            "Model: \"sequential\"\n",
            "_________________________________________________________________\n",
            "Layer (type)                 Output Shape              Param #   \n",
            "=================================================================\n",
            "conv2d (Conv2D)              (None, 26, 26, 64)        640       \n",
            "_________________________________________________________________\n",
            "max_pooling2d (MaxPooling2D) (None, 13, 13, 64)        0         \n",
            "_________________________________________________________________\n",
            "conv2d_1 (Conv2D)            (None, 11, 11, 64)        36928     \n",
            "_________________________________________________________________\n",
            "max_pooling2d_1 (MaxPooling2 (None, 5, 5, 64)          0         \n",
            "_________________________________________________________________\n",
            "flatten (Flatten)            (None, 1600)              0         \n",
            "_________________________________________________________________\n",
            "dense (Dense)                (None, 128)               204928    \n",
            "_________________________________________________________________\n",
            "dense_1 (Dense)              (None, 10)                1290      \n",
            "=================================================================\n",
            "Total params: 243,786\n",
            "Trainable params: 243,786\n",
            "Non-trainable params: 0\n",
            "_________________________________________________________________\n"
          ],
          "name": "stdout"
        }
      ]
    },
    {
      "cell_type": "code",
      "metadata": {
        "colab": {
          "base_uri": "https://localhost:8080/"
        },
        "id": "G7CAjtSAgxiQ",
        "outputId": "a0b4732d-1ee8-4d30-e1bf-1c95367a5609"
      },
      "source": [
        "import timeit\n",
        "\n",
        "tic = timeit.default_timer()\n",
        "trained_model = model.fit(red_train_img, red_train_lbl, batch_size=32, epochs=30, verbose=1, validation_split=0.05)\n",
        "toc = timeit.default_timer()"
      ],
      "execution_count": 8,
      "outputs": [
        {
          "output_type": "stream",
          "text": [
            "Epoch 1/30\n",
            "238/238 [==============================] - 34s 5ms/step - loss: 1.0578 - accuracy: 0.6209 - val_loss: 0.6781 - val_accuracy: 0.7450\n",
            "Epoch 2/30\n",
            "238/238 [==============================] - 1s 3ms/step - loss: 0.4444 - accuracy: 0.8336 - val_loss: 0.4637 - val_accuracy: 0.8175\n",
            "Epoch 3/30\n",
            "238/238 [==============================] - 1s 3ms/step - loss: 0.3849 - accuracy: 0.8632 - val_loss: 0.4318 - val_accuracy: 0.8400\n",
            "Epoch 4/30\n",
            "238/238 [==============================] - 1s 3ms/step - loss: 0.3148 - accuracy: 0.8875 - val_loss: 0.3653 - val_accuracy: 0.8550\n",
            "Epoch 5/30\n",
            "238/238 [==============================] - 1s 3ms/step - loss: 0.3002 - accuracy: 0.8930 - val_loss: 0.3874 - val_accuracy: 0.8600\n",
            "Epoch 6/30\n",
            "238/238 [==============================] - 1s 3ms/step - loss: 0.2569 - accuracy: 0.9100 - val_loss: 0.4201 - val_accuracy: 0.8425\n",
            "Epoch 7/30\n",
            "238/238 [==============================] - 1s 3ms/step - loss: 0.2431 - accuracy: 0.9096 - val_loss: 0.3810 - val_accuracy: 0.8575\n",
            "Epoch 8/30\n",
            "238/238 [==============================] - 1s 3ms/step - loss: 0.2251 - accuracy: 0.9208 - val_loss: 0.3488 - val_accuracy: 0.8725\n",
            "Epoch 9/30\n",
            "238/238 [==============================] - 1s 3ms/step - loss: 0.1876 - accuracy: 0.9296 - val_loss: 0.3907 - val_accuracy: 0.8675\n",
            "Epoch 10/30\n",
            "238/238 [==============================] - 1s 3ms/step - loss: 0.1675 - accuracy: 0.9374 - val_loss: 0.4419 - val_accuracy: 0.8650\n",
            "Epoch 11/30\n",
            "238/238 [==============================] - 1s 3ms/step - loss: 0.1375 - accuracy: 0.9544 - val_loss: 0.4213 - val_accuracy: 0.8500\n",
            "Epoch 12/30\n",
            "238/238 [==============================] - 1s 3ms/step - loss: 0.1400 - accuracy: 0.9493 - val_loss: 0.3806 - val_accuracy: 0.8725\n",
            "Epoch 13/30\n",
            "238/238 [==============================] - 1s 3ms/step - loss: 0.1178 - accuracy: 0.9535 - val_loss: 0.4155 - val_accuracy: 0.8575\n",
            "Epoch 14/30\n",
            "238/238 [==============================] - 1s 3ms/step - loss: 0.0919 - accuracy: 0.9668 - val_loss: 0.4093 - val_accuracy: 0.8875\n",
            "Epoch 15/30\n",
            "238/238 [==============================] - 1s 3ms/step - loss: 0.0880 - accuracy: 0.9677 - val_loss: 0.4312 - val_accuracy: 0.8675\n",
            "Epoch 16/30\n",
            "238/238 [==============================] - 1s 3ms/step - loss: 0.0736 - accuracy: 0.9748 - val_loss: 0.4254 - val_accuracy: 0.8750\n",
            "Epoch 17/30\n",
            "238/238 [==============================] - 1s 3ms/step - loss: 0.0619 - accuracy: 0.9778 - val_loss: 0.4404 - val_accuracy: 0.8850\n",
            "Epoch 18/30\n",
            "238/238 [==============================] - 1s 3ms/step - loss: 0.0552 - accuracy: 0.9805 - val_loss: 0.5221 - val_accuracy: 0.8675\n",
            "Epoch 19/30\n",
            "238/238 [==============================] - 1s 3ms/step - loss: 0.0499 - accuracy: 0.9837 - val_loss: 0.6066 - val_accuracy: 0.8625\n",
            "Epoch 20/30\n",
            "238/238 [==============================] - 1s 3ms/step - loss: 0.0401 - accuracy: 0.9840 - val_loss: 0.6549 - val_accuracy: 0.8700\n",
            "Epoch 21/30\n",
            "238/238 [==============================] - 1s 3ms/step - loss: 0.0340 - accuracy: 0.9897 - val_loss: 0.5745 - val_accuracy: 0.8825\n",
            "Epoch 22/30\n",
            "238/238 [==============================] - 1s 3ms/step - loss: 0.0253 - accuracy: 0.9925 - val_loss: 0.5955 - val_accuracy: 0.8825\n",
            "Epoch 23/30\n",
            "238/238 [==============================] - 1s 3ms/step - loss: 0.0173 - accuracy: 0.9944 - val_loss: 0.6958 - val_accuracy: 0.8675\n",
            "Epoch 24/30\n",
            "238/238 [==============================] - 1s 3ms/step - loss: 0.0468 - accuracy: 0.9854 - val_loss: 0.6735 - val_accuracy: 0.8650\n",
            "Epoch 25/30\n",
            "238/238 [==============================] - 1s 3ms/step - loss: 0.0189 - accuracy: 0.9932 - val_loss: 0.5999 - val_accuracy: 0.8925\n",
            "Epoch 26/30\n",
            "238/238 [==============================] - 1s 3ms/step - loss: 0.0185 - accuracy: 0.9943 - val_loss: 0.7123 - val_accuracy: 0.8775\n",
            "Epoch 27/30\n",
            "238/238 [==============================] - 1s 3ms/step - loss: 0.0156 - accuracy: 0.9946 - val_loss: 0.5685 - val_accuracy: 0.9000\n",
            "Epoch 28/30\n",
            "238/238 [==============================] - 1s 3ms/step - loss: 0.0364 - accuracy: 0.9867 - val_loss: 0.6602 - val_accuracy: 0.8775\n",
            "Epoch 29/30\n",
            "238/238 [==============================] - 1s 3ms/step - loss: 0.0188 - accuracy: 0.9929 - val_loss: 0.7921 - val_accuracy: 0.8650\n",
            "Epoch 30/30\n",
            "238/238 [==============================] - 1s 3ms/step - loss: 0.0356 - accuracy: 0.9879 - val_loss: 0.7046 - val_accuracy: 0.8600\n"
          ],
          "name": "stdout"
        }
      ]
    },
    {
      "cell_type": "code",
      "metadata": {
        "colab": {
          "base_uri": "https://localhost:8080/"
        },
        "id": "ZpPE5Rpphe0L",
        "outputId": "937ad9e4-aa18-4183-d65e-a733a86a3bb8"
      },
      "source": [
        "print('The Running Time is:', toc-tic)"
      ],
      "execution_count": 9,
      "outputs": [
        {
          "output_type": "stream",
          "text": [
            "The Running Time is: 55.386658474\n"
          ],
          "name": "stdout"
        }
      ]
    },
    {
      "cell_type": "code",
      "metadata": {
        "colab": {
          "base_uri": "https://localhost:8080/",
          "height": 278
        },
        "id": "Q-rjx603h44i",
        "outputId": "5854d268-7ff2-400b-e324-d5bcdee23606"
      },
      "source": [
        "import matplotlib.pyplot as plt\n",
        "\n",
        "history = trained_model.history\n",
        "acc_val = history['val_accuracy']\n",
        "acc_tra = history['accuracy']\n",
        "\n",
        "plt.xlabel('Epochs')\n",
        "plt.ylabel('Accuracy')\n",
        "\n",
        "plt.plot(acc_tra, 'blue')\n",
        "plt.plot(acc_val, 'red')\n",
        "\n",
        "plt.legend(['Training', 'Validation'])\n",
        "plt.grid(c='lightgrey')\n",
        "plt.show()"
      ],
      "execution_count": 15,
      "outputs": [
        {
          "output_type": "display_data",
          "data": {
            "image/png": "[encoded data removed]",
            "text/plain": [
              "<Figure size 432x288 with 1 Axes>"
            ]
          },
          "metadata": {
            "tags": [],
            "needs_background": "light"
          }
        }
      ]
    },
    {
      "cell_type": "code",
      "metadata": {
        "colab": {
          "base_uri": "https://localhost:8080/",
          "height": 278
        },
        "id": "itqjLij-i2Hh",
        "outputId": "3cf97436-3366-48c2-d8bf-e9d5374c13f0"
      },
      "source": [
        "loss_val = history['val_loss']\n",
        "loss_tra = history['loss']\n",
        "\n",
        "plt.xlabel('Epochs')\n",
        "plt.ylabel('Loss')\n",
        "\n",
        "plt.plot(loss_tra, 'blue')\n",
        "plt.plot(loss_val, 'red')\n",
        "\n",
        "plt.legend(['Training', 'Validation'])\n",
        "plt.grid(c='lightgrey')\n",
        "plt.show()"
      ],
      "execution_count": 16,
      "outputs": [
        {
          "output_type": "display_data",
          "data": {
            "image/png": "[encoded data removed]",
            "text/plain": [
              "<Figure size 432x288 with 1 Axes>"
            ]
          },
          "metadata": {
            "tags": [],
            "needs_background": "light"
          }
        }
      ]
    },
    {
      "cell_type": "code",
      "metadata": {
        "id": "NyCmn5__lVAT"
      },
      "source": [
        ""
      ],
      "execution_count": null,
      "outputs": []
    }
  ]
}